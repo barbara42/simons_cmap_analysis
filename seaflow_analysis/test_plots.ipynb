{
 "cells": [
  {
   "cell_type": "code",
   "execution_count": null,
   "id": "presidential-satellite",
   "metadata": {},
   "outputs": [],
   "source": [
    "# TODO: imports "
   ]
  },
  {
   "cell_type": "code",
   "execution_count": null,
   "id": "equivalent-edwards",
   "metadata": {},
   "outputs": [],
   "source": [
    "# TODO: setup "
   ]
  },
  {
   "cell_type": "code",
   "execution_count": null,
   "id": "surgical-region",
   "metadata": {},
   "outputs": [],
   "source": [
    "# test plot_corr_coefs_heatmap: scatter\n",
    "plot_corr_coefs_heatmap(cruise_name, pro, 'temperature', window_sizes=range(1,5001,500), \\\n",
    "                        title=f'Pro/Temp Correlation Over Window Size for Cruise {cruise_name}')"
   ]
  },
  {
   "cell_type": "code",
   "execution_count": null,
   "id": "bacterial-investigation",
   "metadata": {},
   "outputs": [],
   "source": [
    "# test plot_corr_coefs_heatmap: hist2d\n",
    "plot_corr_coefs_heatmap(cruise_name, pro, 'temperature', window_sizes=range(1,5001,500), kind='hist2d', \\\n",
    "                        title=f'Pro/Temp Correlation Over Window Size for Cruise {cruise_name}')"
   ]
  }
 ],
 "metadata": {
  "kernelspec": {
   "display_name": "Python 3",
   "language": "python",
   "name": "python3"
  },
  "language_info": {
   "codemirror_mode": {
    "name": "ipython",
    "version": 3
   },
   "file_extension": ".py",
   "mimetype": "text/x-python",
   "name": "python",
   "nbconvert_exporter": "python",
   "pygments_lexer": "ipython3",
   "version": "3.7.9"
  }
 },
 "nbformat": 4,
 "nbformat_minor": 5
}
